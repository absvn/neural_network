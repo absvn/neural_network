{
 "cells": [
  {
   "cell_type": "code",
   "execution_count": 1,
   "id": "05ee7805-157d-4e34-83c4-56507a053ec4",
   "metadata": {},
   "outputs": [],
   "source": [
    "from sklearn.datasets import make_regression\n",
    "import pandas as pd"
   ]
  },
  {
   "cell_type": "code",
   "execution_count": 2,
   "id": "d1d70695-75e6-436f-8175-6a360819ba99",
   "metadata": {},
   "outputs": [],
   "source": [
    "x,y = make_regression(n_samples=100000, n_features=20, noise=0.1, random_state=1)"
   ]
  },
  {
   "cell_type": "code",
   "execution_count": 3,
   "id": "40adf1bc-8f71-4600-b3c9-502647eac080",
   "metadata": {},
   "outputs": [
    {
     "data": {
      "text/plain": [
       "array([[ 1.12842514, -0.1492627 , -0.98472184, ..., -0.65258286,\n",
       "         0.35013173, -0.37146216],\n",
       "       [-1.10905345,  0.54188114, -1.22855732, ..., -1.10510822,\n",
       "        -0.46035827,  0.1161981 ],\n",
       "       [-1.01657927, -2.35564201, -0.85325522, ..., -0.05414315,\n",
       "        -0.90094578,  0.33375919],\n",
       "       ...,\n",
       "       [-0.19552381,  0.56738675,  2.17243795, ...,  0.80507291,\n",
       "        -1.44793538, -0.24841579],\n",
       "       [-0.18158784,  0.29116531,  1.44321229, ...,  0.90879299,\n",
       "         0.15492533,  0.70532445],\n",
       "       [-1.29057051,  0.00861456, -1.1860418 , ..., -0.63142802,\n",
       "         2.76122009,  1.85427529]])"
      ]
     },
     "execution_count": 3,
     "metadata": {},
     "output_type": "execute_result"
    }
   ],
   "source": [
    "x"
   ]
  },
  {
   "cell_type": "code",
   "execution_count": 4,
   "id": "ca3b2bea-c3a7-4270-84a8-981dc3d80136",
   "metadata": {},
   "outputs": [
    {
     "data": {
      "text/plain": [
       "array([  -7.06702286,   76.87783452, -470.5705466 , ..., -465.62395631,\n",
       "        340.70817914,  -98.77415736])"
      ]
     },
     "execution_count": 4,
     "metadata": {},
     "output_type": "execute_result"
    }
   ],
   "source": [
    "y"
   ]
  },
  {
   "cell_type": "code",
   "execution_count": 5,
   "id": "59603cf3-8569-4cc3-ad10-68d788682cd0",
   "metadata": {},
   "outputs": [],
   "source": [
    "df = pd.DataFrame(x,y)\n",
    "df.to_csv('make_regression.csv')"
   ]
  }
 ],
 "metadata": {
  "kernelspec": {
   "display_name": "Python 3 (ipykernel)",
   "language": "python",
   "name": "python3"
  },
  "language_info": {
   "codemirror_mode": {
    "name": "ipython",
    "version": 3
   },
   "file_extension": ".py",
   "mimetype": "text/x-python",
   "name": "python",
   "nbconvert_exporter": "python",
   "pygments_lexer": "ipython3",
   "version": "3.8.12"
  }
 },
 "nbformat": 4,
 "nbformat_minor": 5
}
