{
 "cells": [
  {
   "cell_type": "code",
   "execution_count": 2,
   "id": "1b13d5f1-5ba9-42e2-b6cd-6dd2af291918",
   "metadata": {},
   "outputs": [],
   "source": [
    "import os\n",
    "import numpy as np\n",
    "import matplotlib.pyplot as plt\n",
    "import tensorflow as tf"
   ]
  },
  {
   "cell_type": "code",
   "execution_count": 3,
   "id": "21976256-a5b7-4471-b353-4d49a1cc78be",
   "metadata": {},
   "outputs": [],
   "source": [
    "from tensorflow.keras.preprocessing import image"
   ]
  },
  {
   "cell_type": "code",
   "execution_count": 4,
   "id": "4101de29-e224-4e70-8d16-b903c8c8abd9",
   "metadata": {},
   "outputs": [],
   "source": [
    "from tensorflow.keras.models import Sequential\n",
    "from tensorflow.keras.layers import Dropout, Dense, Conv2D, Activation, MaxPooling2D, Flatten"
   ]
  },
  {
   "cell_type": "code",
   "execution_count": 9,
   "id": "051e7117-b426-4122-bcb6-daf10a72d173",
   "metadata": {},
   "outputs": [],
   "source": [
    "dataset_path = '/Users/abhinavsingh/Desktop/image_data/'"
   ]
  },
  {
   "cell_type": "code",
   "execution_count": 11,
   "id": "85075acf-f985-4ef7-b45a-d6717fa03542",
   "metadata": {},
   "outputs": [],
   "source": [
    "train = image.ImageDataGenerator(\n",
    "    rescale = 1./255, \n",
    "    horizontal_flip = True, \n",
    "    vertical_flip= True, \n",
    "    shear_range = 0.2, \n",
    "    zoom_range = 0.2\n",
    ")"
   ]
  },
  {
   "cell_type": "code",
   "execution_count": 12,
   "id": "0f2c6d7a-7aa4-45ff-9893-901faf53c8bf",
   "metadata": {},
   "outputs": [
    {
     "name": "stdout",
     "output_type": "stream",
     "text": [
      "Found 13039 images belonging to 12 classes.\n"
     ]
    }
   ],
   "source": [
    "train_gen = train.flow_from_directory(\n",
    "    '/Users/abhinavsingh/Desktop/image_data/', \n",
    "    target_size = (224,224), \n",
    "    batch_size = 32, \n",
    "    class_mode = 'categorical'\n",
    ")"
   ]
  },
  {
   "cell_type": "code",
   "execution_count": 13,
   "id": "2cab72f8-a160-4b5c-b9be-f683c9985bc7",
   "metadata": {},
   "outputs": [
    {
     "data": {
      "text/plain": [
       "{'Authorization_Letter': 0,\n",
       " 'Claim_Form': 1,\n",
       " 'Consolidated_Bill': 2,\n",
       " 'Detailed_Bill': 3,\n",
       " 'Discharge_Summary': 4,\n",
       " 'KYC': 5,\n",
       " 'Lab_Reports': 6,\n",
       " 'Membership_Document': 7,\n",
       " 'NEFT': 8,\n",
       " 'Others': 9,\n",
       " 'Prescription': 10,\n",
       " 'Query_Reply': 11}"
      ]
     },
     "execution_count": 13,
     "metadata": {},
     "output_type": "execute_result"
    }
   ],
   "source": [
    "train_gen.class_indices"
   ]
  },
  {
   "cell_type": "code",
   "execution_count": 14,
   "id": "43e54249-16de-4705-b202-2d911c667ebb",
   "metadata": {},
   "outputs": [],
   "source": [
    "model = Sequential()\n",
    "model.add(Conv2D(32, kernel_size = (3,3),activation='relu',input_shape=(224,224,3), padding='same'))\n",
    "model.add(MaxPooling2D(pool_size=(2,2)))\n",
    "# model.add(Dropout(0.1))\n",
    "\n",
    "model.add(Conv2D(64,(3,3),activation='relu'))\n",
    "model.add(MaxPooling2D(pool_size=(2,2)))\n",
    "# model.add(Dropout(0.1))\n",
    "\n",
    "model.add(Conv2D(128,(3,3),activation='relu'))\n",
    "model.add(MaxPooling2D(pool_size=(2,2)))\n",
    "# model.add(Dropout(0.1))\n",
    "\n",
    "model.add(Conv2D(512,(3,3),activation='relu'))\n",
    "model.add(MaxPooling2D(pool_size=(2,2)))\n",
    "# model.add(Dropout(0.1))\n",
    "\n",
    "model.add(Flatten())\n",
    "model.add(Dense(64, activation='relu'))\n",
    "\n",
    "# model.add(Dropout(0.1))\n",
    "model.add(Dense(12,activation='softmax'))\n",
    "\n",
    "model.compile(optimizer='adam',loss='categorical_crossentropy',metrics=['accuracy'])"
   ]
  },
  {
   "cell_type": "code",
   "execution_count": 15,
   "id": "2d50f732-bc2d-4b14-b0b6-01023bf8f014",
   "metadata": {},
   "outputs": [
    {
     "name": "stdout",
     "output_type": "stream",
     "text": [
      "Model: \"sequential\"\n",
      "_________________________________________________________________\n",
      "Layer (type)                 Output Shape              Param #   \n",
      "=================================================================\n",
      "conv2d (Conv2D)              (None, 224, 224, 32)      896       \n",
      "_________________________________________________________________\n",
      "max_pooling2d (MaxPooling2D) (None, 112, 112, 32)      0         \n",
      "_________________________________________________________________\n",
      "conv2d_1 (Conv2D)            (None, 110, 110, 64)      18496     \n",
      "_________________________________________________________________\n",
      "max_pooling2d_1 (MaxPooling2 (None, 55, 55, 64)        0         \n",
      "_________________________________________________________________\n",
      "conv2d_2 (Conv2D)            (None, 53, 53, 128)       73856     \n",
      "_________________________________________________________________\n",
      "max_pooling2d_2 (MaxPooling2 (None, 26, 26, 128)       0         \n",
      "_________________________________________________________________\n",
      "conv2d_3 (Conv2D)            (None, 24, 24, 512)       590336    \n",
      "_________________________________________________________________\n",
      "max_pooling2d_3 (MaxPooling2 (None, 12, 12, 512)       0         \n",
      "_________________________________________________________________\n",
      "flatten (Flatten)            (None, 73728)             0         \n",
      "_________________________________________________________________\n",
      "dense (Dense)                (None, 64)                4718656   \n",
      "_________________________________________________________________\n",
      "dense_1 (Dense)              (None, 12)                780       \n",
      "=================================================================\n",
      "Total params: 5,403,020\n",
      "Trainable params: 5,403,020\n",
      "Non-trainable params: 0\n",
      "_________________________________________________________________\n"
     ]
    }
   ],
   "source": [
    "model.summary()"
   ]
  },
  {
   "cell_type": "code",
   "execution_count": 16,
   "id": "2e6babfb-9c16-43b1-82ad-19ace352d56a",
   "metadata": {},
   "outputs": [
    {
     "name": "stderr",
     "output_type": "stream",
     "text": [
      "/Users/abhinavsingh/miniforge3/envs/tata/lib/python3.8/site-packages/tensorflow/python/keras/engine/training.py:1844: UserWarning: `Model.fit_generator` is deprecated and will be removed in a future version. Please use `Model.fit`, which supports generators.\n",
      "  warnings.warn('`Model.fit_generator` is deprecated and '\n"
     ]
    },
    {
     "name": "stdout",
     "output_type": "stream",
     "text": [
      "Epoch 1/20\n",
      "WARNING:tensorflow:AutoGraph could not transform <function Model.make_train_function.<locals>.train_function at 0x17b3fbee0> and will run it as-is.\n",
      "Please report this to the TensorFlow team. When filing the bug, set the verbosity to 10 (on Linux, `export AUTOGRAPH_VERBOSITY=10`) and attach the full output.\n",
      "Cause: unsupported operand type(s) for -: 'NoneType' and 'int'\n",
      "To silence this warning, decorate the function with @tf.autograph.experimental.do_not_convert\n",
      "WARNING: AutoGraph could not transform <function Model.make_train_function.<locals>.train_function at 0x17b3fbee0> and will run it as-is.\n",
      "Please report this to the TensorFlow team. When filing the bug, set the verbosity to 10 (on Linux, `export AUTOGRAPH_VERBOSITY=10`) and attach the full output.\n",
      "Cause: unsupported operand type(s) for -: 'NoneType' and 'int'\n",
      "To silence this warning, decorate the function with @tf.autograph.experimental.do_not_convert\n"
     ]
    },
    {
     "name": "stderr",
     "output_type": "stream",
     "text": [
      "2021-12-03 18:27:19.718435: I tensorflow/compiler/mlir/mlir_graph_optimization_pass.cc:116] None of the MLIR optimization passes are enabled (registered 2)\n",
      "2021-12-03 18:27:19.718974: W tensorflow/core/platform/profile_utils/cpu_utils.cc:126] Failed to get CPU frequency: 0 Hz\n"
     ]
    },
    {
     "name": "stdout",
     "output_type": "stream",
     "text": [
      "6/6 [==============================] - 6s 884ms/step - loss: 2.9454 - accuracy: 0.1937\n",
      "Epoch 2/20\n",
      "6/6 [==============================] - 6s 916ms/step - loss: 2.0043 - accuracy: 0.2784\n",
      "Epoch 3/20\n",
      "6/6 [==============================] - 6s 911ms/step - loss: 1.8696 - accuracy: 0.2728\n",
      "Epoch 4/20\n",
      "6/6 [==============================] - 6s 915ms/step - loss: 1.7620 - accuracy: 0.2978\n",
      "Epoch 5/20\n",
      "6/6 [==============================] - 6s 919ms/step - loss: 1.7733 - accuracy: 0.3353\n",
      "Epoch 6/20\n",
      "6/6 [==============================] - 6s 917ms/step - loss: 1.7115 - accuracy: 0.3951\n",
      "Epoch 7/20\n",
      "6/6 [==============================] - 6s 919ms/step - loss: 1.8132 - accuracy: 0.3512\n",
      "Epoch 8/20\n",
      "6/6 [==============================] - 6s 914ms/step - loss: 1.6208 - accuracy: 0.3946\n",
      "Epoch 9/20\n",
      "6/6 [==============================] - 6s 926ms/step - loss: 1.7944 - accuracy: 0.3471\n",
      "Epoch 10/20\n",
      "6/6 [==============================] - 6s 943ms/step - loss: 1.7752 - accuracy: 0.2891\n",
      "Epoch 11/20\n",
      "6/6 [==============================] - 6s 917ms/step - loss: 1.8959 - accuracy: 0.2674\n",
      "Epoch 12/20\n",
      "6/6 [==============================] - 6s 921ms/step - loss: 1.8187 - accuracy: 0.2767\n",
      "Epoch 13/20\n",
      "6/6 [==============================] - 6s 903ms/step - loss: 1.6819 - accuracy: 0.3979\n",
      "Epoch 14/20\n",
      "6/6 [==============================] - 6s 919ms/step - loss: 1.8294 - accuracy: 0.4260\n",
      "Epoch 15/20\n",
      "6/6 [==============================] - 6s 912ms/step - loss: 1.7037 - accuracy: 0.3719\n",
      "Epoch 16/20\n",
      "6/6 [==============================] - 6s 910ms/step - loss: 1.7670 - accuracy: 0.3419\n",
      "Epoch 17/20\n",
      "6/6 [==============================] - 6s 923ms/step - loss: 1.8243 - accuracy: 0.3034\n",
      "Epoch 18/20\n",
      "6/6 [==============================] - 6s 911ms/step - loss: 1.7778 - accuracy: 0.3614\n",
      "Epoch 19/20\n",
      "6/6 [==============================] - 6s 902ms/step - loss: 1.6941 - accuracy: 0.4421\n",
      "Epoch 20/20\n",
      "6/6 [==============================] - 6s 920ms/step - loss: 1.8285 - accuracy: 0.4100\n"
     ]
    }
   ],
   "source": [
    "history = model.fit_generator(train_gen, steps_per_epoch = 6, epochs = 20)"
   ]
  },
  {
   "cell_type": "markdown",
   "id": "b8999b2f-326d-435b-83b2-0a14b9044a6f",
   "metadata": {},
   "source": [
    "## for test data"
   ]
  },
  {
   "cell_type": "code",
   "execution_count": 5,
   "id": "47074579-0398-4cdf-9f6b-b8276e05cc26",
   "metadata": {},
   "outputs": [],
   "source": [
    "# test_dataset = image.ImageDataGenerator(rescale = 1./255)"
   ]
  },
  {
   "cell_type": "code",
   "execution_count": 1,
   "id": "fa6d75e8-7f52-4e67-a055-0c75f60c99bb",
   "metadata": {},
   "outputs": [],
   "source": [
    "# validation_generator = test_dataset.flow_from_directory(\n",
    "#     'path_to_test_data',\n",
    "#     target_size = (224,224),\n",
    "#     batch_size = 32,\n",
    "#     class_mode = 'categorical'\n",
    "# )"
   ]
  }
 ],
 "metadata": {
  "kernelspec": {
   "display_name": "Python 3 (ipykernel)",
   "language": "python",
   "name": "python3"
  },
  "language_info": {
   "codemirror_mode": {
    "name": "ipython",
    "version": 3
   },
   "file_extension": ".py",
   "mimetype": "text/x-python",
   "name": "python",
   "nbconvert_exporter": "python",
   "pygments_lexer": "ipython3",
   "version": "3.8.12"
  }
 },
 "nbformat": 4,
 "nbformat_minor": 5
}
